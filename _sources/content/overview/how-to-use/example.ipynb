{
 "cells": [
  {
   "cell_type": "markdown",
   "id": "c72315b2-015b-4c96-a28f-b42da73a7719",
   "metadata": {},
   "source": [
    "# An example Jupyter notebook"
   ]
  },
  {
   "cell_type": "code",
   "execution_count": 1,
   "id": "8fa65d98-e325-4561-b843-6a4943ca672e",
   "metadata": {},
   "outputs": [
    {
     "name": "stdout",
     "output_type": "stream",
     "text": [
      "2 + 3 = 5\n"
     ]
    }
   ],
   "source": [
    "a = 2\n",
    "b = 3\n",
    "print('{} + {} = {}'.format(a,b,a+b))"
   ]
  },
  {
   "cell_type": "code",
   "execution_count": null,
   "id": "4e2138ad-2bee-4fec-8726-0db9d6f1850b",
   "metadata": {},
   "outputs": [],
   "source": []
  }
 ],
 "metadata": {
  "kernelspec": {
   "display_name": "Python 3 (ipykernel)",
   "language": "python",
   "name": "python3"
  },
  "language_info": {
   "codemirror_mode": {
    "name": "ipython",
    "version": 3
   },
   "file_extension": ".py",
   "mimetype": "text/x-python",
   "name": "python",
   "nbconvert_exporter": "python",
   "pygments_lexer": "ipython3",
   "version": "3.10.12"
  }
 },
 "nbformat": 4,
 "nbformat_minor": 5
}
